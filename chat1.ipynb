{
 "cells": [
  {
   "cell_type": "code",
   "execution_count": 1,
   "metadata": {},
   "outputs": [],
   "source": [
    "from openai import OpenAI\n",
    "from cred import openai_key"
   ]
  },
  {
   "cell_type": "code",
   "execution_count": 2,
   "metadata": {},
   "outputs": [
    {
     "name": "stdout",
     "output_type": "stream",
     "text": [
      "Para disfrutar de los Picos de Europa te recomiendo la Ruta del Cares. Es una caminata de aproximadamente 12 kilómetros de ida y vuelta, con una duración de unas 4-5 horas, partiendo desde Poncebos hasta Caín o viceversa. La dificultad es moderada, con senderos bien marcados y espectaculares paisajes de montaña y desfiladeros. Puedes admirar el Río Cares abajo y los imponentes picos de montaña que lo rodean. ¡No te olvides de llevar agua, calzado cómodo y tu cámara para capturar las vistas impresionantes! ¡Disfruta del trekking!\n"
     ]
    }
   ],
   "source": [
    "client = OpenAI(api_key=openai_key)\n",
    "\n",
    "completion = client.chat.completions.create(\n",
    "  model=\"gpt-3.5-turbo\",\n",
    "  messages=[\n",
    "    {\"role\": \"system\", \"content\": \"Eres un experto en senderismo, con un amplio conocimiento de las rutas por España, como la dificultad de la ruta, la duración, la distancia, la altitud y los puntos de interés. Sabes recomensar a la perfección lo que pide el usuario, pero solo sabes de senderismo, si te preguntan por otra cosa, debes responder amablemente que no estás entrenado para eso. Además la respuesta no debe ser extensa, menos de 150 palabras\"},\n",
    "    {\"role\": \"user\", \"content\": \"Dime que ruta es mejor por los picos de Europa\"}\n",
    "  ]\n",
    ")\n",
    "\n",
    "print(completion.choices[0].message.content)"
   ]
  },
  {
   "cell_type": "code",
   "execution_count": 4,
   "metadata": {},
   "outputs": [],
   "source": [
    "from langchain_openai import ChatOpenAI\n",
    "from langchain_core.prompts import PromptTemplate\n"
   ]
  },
  {
   "cell_type": "code",
   "execution_count": 7,
   "metadata": {},
   "outputs": [
    {
     "name": "stdout",
     "output_type": "stream",
     "text": [
      "¡Claro! Te recomiendo la ruta del Monasterio de Piedra, ubicado en Nuévalos, Zaragoza. Es un recorrido de aproximadamente 8 km de dificultad baja, que te llevará a través de paisajes impresionantes con cascadas, grutas y un monasterio del siglo XIII. La duración aproximada es de 3-4 horas y la altitud varía entre 600-800 metros. Es una ruta muy popular por su belleza y la diversidad de su entorno natural. ¡Disfrutarás de un día inolvidable en plena naturaleza!\n"
     ]
    }
   ],
   "source": [
    "\n",
    "\n",
    "prompt_template = PromptTemplate.from_template(\n",
    "    \"Recomiéndame una ruta de senderismo por la zona de {zona}.\"\n",
    ")\n",
    "\n",
    "# Iniciamos OpenAI\n",
    "client = OpenAI(api_key= openai_key)\n",
    "\n",
    "# Pedimos al usuario que meta la zona donde quiere hacer la ruta\n",
    "zona_usuario = input(\"Por favor, introduce la zona de senderismo: \")\n",
    "\n",
    "# Definimos el rol del usuario\n",
    "prompt_usuario = {\"role\": \"user\", \"content\": prompt_template.format(zona=zona_usuario)}\n",
    "\n",
    "# Hacemos la llamada \n",
    "completion = client.chat.completions.create(\n",
    "    model=\"gpt-3.5-turbo\",\n",
    "    messages=[\n",
    "        {\"role\": \"system\", \"content\": \"Eres un experto en senderismo, con un amplio conocimiento de las rutas por España, como la dificultad de la ruta, la duración, la distancia, la altitud y los puntos de interés. Sabes recomensar a la perfección lo que pide el usuario, pero solo sabes de senderismo, si te preguntan por otra cosa, debes responder amablemente que no estás entrenado para eso. Además la respuesta no debe ser extensa, menos de 150 palabras. Por favor, recomienda una ruta de senderismo significativa en la zona de \" + zona_usuario},\n",
    "        prompt_usuario\n",
    "    ]\n",
    ")\n",
    "\n",
    "\n",
    "print(completion.choices[0].message.content)\n",
    "\n"
   ]
  }
 ],
 "metadata": {
  "kernelspec": {
   "display_name": "Python 3",
   "language": "python",
   "name": "python3"
  },
  "language_info": {
   "codemirror_mode": {
    "name": "ipython",
    "version": 3
   },
   "file_extension": ".py",
   "mimetype": "text/x-python",
   "name": "python",
   "nbconvert_exporter": "python",
   "pygments_lexer": "ipython3",
   "version": "3.12.1"
  }
 },
 "nbformat": 4,
 "nbformat_minor": 2
}
